{
 "cells": [
  {
   "cell_type": "markdown",
   "id": "314e4101-2070-4530-98ff-17653741cbfb",
   "metadata": {},
   "source": [
    "## Lets Start with String"
   ]
  },
  {
   "cell_type": "code",
   "execution_count": 1,
   "id": "6523cc2c-1ed6-41f2-a9da-bdbe3d756c56",
   "metadata": {},
   "outputs": [],
   "source": [
    "##Create a String\n",
    "\n",
    "x=\"Hello\"\n",
    "y='Hello'\n",
    "z='''Hello'''\n",
    "\n",
    "a=\"Hello It's me\"\n",
    "b='Hello It\"s me '\n",
    "c='''Hello Its me\n",
    "I am creating this tutorial\n",
    "'''"
   ]
  },
  {
   "cell_type": "code",
   "execution_count": 2,
   "id": "42f7af7a-ee77-4ba5-a2b3-5fdb7ada4be5",
   "metadata": {},
   "outputs": [
    {
     "name": "stdout",
     "output_type": "stream",
     "text": [
      "Hello\n",
      "Hello\n",
      "Hello\n",
      "Hello It's me\n",
      "Hello It\"s me \n",
      "Hello Its me\n",
      "I am creating this tutorial\n",
      "\n"
     ]
    }
   ],
   "source": [
    "print(x)\n",
    "print(y)\n",
    "print(z)\n",
    "print(a)\n",
    "print(b)\n",
    "print(c)"
   ]
  },
  {
   "cell_type": "markdown",
   "id": "30bf1a5c-7015-4456-9774-94a39d016a9b",
   "metadata": {},
   "source": [
    "### Relation Between String and List\n",
    "\n",
    "#### Now if you know strings are immutable. \n",
    "\n",
    "What does that mean : if we change a string then it will throw error\n",
    "\n"
   ]
  },
  {
   "cell_type": "code",
   "execution_count": 45,
   "id": "b6efe7be-3986-4915-90f5-984397d9f43f",
   "metadata": {},
   "outputs": [
    {
     "ename": "TypeError",
     "evalue": "'str' object does not support item assignment",
     "output_type": "error",
     "traceback": [
      "\u001b[1;31m---------------------------------------------------------------------------\u001b[0m",
      "\u001b[1;31mTypeError\u001b[0m                                 Traceback (most recent call last)",
      "Cell \u001b[1;32mIn[45], line 4\u001b[0m\n\u001b[0;32m      1\u001b[0m \u001b[38;5;66;03m## We cant do the below operation because strings are immutable so you can remove,update or delete one particular index or char. \u001b[39;00m\n\u001b[0;32m      2\u001b[0m \u001b[38;5;66;03m# But you can replace value in string with something else.In that case it will allocate a new memoery address to string and doesnt actually modify the actual string\u001b[39;00m\n\u001b[0;32m      3\u001b[0m test_string\u001b[38;5;241m=\u001b[39m\u001b[38;5;124m\"\u001b[39m\u001b[38;5;124mStrings are immutable\u001b[39m\u001b[38;5;124m\"\u001b[39m\n\u001b[1;32m----> 4\u001b[0m test_string[\u001b[38;5;241m0\u001b[39m]\u001b[38;5;241m=\u001b[39m\u001b[38;5;124m'\u001b[39m\u001b[38;5;124mW\u001b[39m\u001b[38;5;124m'\u001b[39m\n",
      "\u001b[1;31mTypeError\u001b[0m: 'str' object does not support item assignment"
     ]
    }
   ],
   "source": [
    "## We cant do the below operation because strings are immutable so you can remove,update or delete one particular index or char. \n",
    "# But you can replace value in string with something else.In that case it will allocate a new memoery address to string and doesnt actually modify the actual string\n",
    "test_string=\"Strings are immutable\"\n",
    "test_string[0]='W'"
   ]
  },
  {
   "cell_type": "code",
   "execution_count": 46,
   "id": "c29726d2-f63d-47fa-986c-843437b3119e",
   "metadata": {},
   "outputs": [
    {
     "data": {
      "text/plain": [
       "2440037783088"
      ]
     },
     "execution_count": 46,
     "metadata": {},
     "output_type": "execute_result"
    }
   ],
   "source": [
    "id(test_string)"
   ]
  },
  {
   "cell_type": "code",
   "execution_count": 47,
   "id": "8965beaa-74f6-4e53-b795-0201d74ed093",
   "metadata": {},
   "outputs": [
    {
     "name": "stdout",
     "output_type": "stream",
     "text": [
      "2440038040432\n"
     ]
    }
   ],
   "source": [
    "test_string=test_string.replace(\"St\",\"PS\")\n",
    "print(id(test_string))\n",
    "\n",
    "## Remember doing this operation is O(N) time complexity since strings are immutable it will create a new string and will scan \n",
    "# through the entire string to find corresponding value to replace"
   ]
  },
  {
   "cell_type": "code",
   "execution_count": 4,
   "id": "d2308ec0-ed50-4312-8ab6-6fdac091d4b9",
   "metadata": {},
   "outputs": [
    {
     "ename": "TypeError",
     "evalue": "'str' object doesn't support item deletion",
     "output_type": "error",
     "traceback": [
      "\u001b[1;31m---------------------------------------------------------------------------\u001b[0m",
      "\u001b[1;31mTypeError\u001b[0m                                 Traceback (most recent call last)",
      "Cell \u001b[1;32mIn[4], line 1\u001b[0m\n\u001b[1;32m----> 1\u001b[0m \u001b[38;5;28;01mdel\u001b[39;00m test_string[\u001b[38;5;241m0\u001b[39m]\n",
      "\u001b[1;31mTypeError\u001b[0m: 'str' object doesn't support item deletion"
     ]
    }
   ],
   "source": [
    "del test_string[0]"
   ]
  },
  {
   "cell_type": "code",
   "execution_count": 5,
   "id": "29617a13-c953-4d49-80f9-4e7f2b54ca3a",
   "metadata": {},
   "outputs": [],
   "source": [
    "copy_string=test_string"
   ]
  },
  {
   "cell_type": "code",
   "execution_count": 6,
   "id": "b099a846-a432-4334-ab9b-04f3d5bfdd4f",
   "metadata": {},
   "outputs": [
    {
     "name": "stdout",
     "output_type": "stream",
     "text": [
      "2440022737968\n",
      "2440022737968\n"
     ]
    }
   ],
   "source": [
    "print(id(copy_string))\n",
    "print(id(test_string))"
   ]
  },
  {
   "cell_type": "code",
   "execution_count": 7,
   "id": "f82efd65-7039-4db0-a09d-19b1415b7c0d",
   "metadata": {},
   "outputs": [],
   "source": [
    "# Since String are immutable, a new object is created. \n",
    "copy_string=copy_string+\"Bye\"\n",
    "\n",
    "## Again since strings are immutable,everytime a new string is created, its 0(N) as it allocates new memory for the new string.\n",
    "## It copies all characters from copy_string and \"Bye\" into the new string"
   ]
  },
  {
   "cell_type": "code",
   "execution_count": 8,
   "id": "68e3466c-346a-4e9c-99e9-a9006c939a39",
   "metadata": {},
   "outputs": [
    {
     "name": "stdout",
     "output_type": "stream",
     "text": [
      "2440037229200\n"
     ]
    }
   ],
   "source": [
    "print(id(copy_string))"
   ]
  },
  {
   "cell_type": "code",
   "execution_count": 9,
   "id": "275ccd8e-b07f-416e-bf57-49ef9062be94",
   "metadata": {},
   "outputs": [
    {
     "name": "stdout",
     "output_type": "stream",
     "text": [
      "2440025126016\n",
      "2440025126016\n",
      "True\n"
     ]
    }
   ],
   "source": [
    "s1='Strings'\n",
    "s2='Strings'\n",
    "\n",
    "print(id(s1))\n",
    "print(id(s2))\n",
    "print(s1 is s2)  # Output: True (same memory location as both are just pointers to \"Strings\" stored in memory)"
   ]
  },
  {
   "cell_type": "code",
   "execution_count": 10,
   "id": "0fa725ab-6282-4b9f-a9b5-9936a17b0835",
   "metadata": {},
   "outputs": [
    {
     "name": "stdout",
     "output_type": "stream",
     "text": [
      "2440036956160\n",
      "2440036956160\n"
     ]
    }
   ],
   "source": [
    "## Since strings are immutable, Python reuses the same memory location. But Lists retain their memory address because they are mutable.\n",
    "\n",
    "lst = [1, 2, 3]\n",
    "print(id(lst))  # Prints memory address\n",
    "\n",
    "lst.append(4)  # Modifies the existing list\n",
    "print(id(lst))  # Same memory address!"
   ]
  },
  {
   "cell_type": "code",
   "execution_count": 11,
   "id": "ea2bda9d-63b4-4bc5-86a6-a81f850b205c",
   "metadata": {},
   "outputs": [
    {
     "data": {
      "text/plain": [
       "['Strings', 'are', 'immutable']"
      ]
     },
     "execution_count": 11,
     "metadata": {},
     "output_type": "execute_result"
    }
   ],
   "source": [
    "test_string.split()"
   ]
  },
  {
   "cell_type": "code",
   "execution_count": 12,
   "id": "4b8686a9-616f-45c6-95f2-3b2321ca71f3",
   "metadata": {},
   "outputs": [
    {
     "ename": "ValueError",
     "evalue": "empty separator",
     "output_type": "error",
     "traceback": [
      "\u001b[1;31m---------------------------------------------------------------------------\u001b[0m",
      "\u001b[1;31mValueError\u001b[0m                                Traceback (most recent call last)",
      "Cell \u001b[1;32mIn[12], line 1\u001b[0m\n\u001b[1;32m----> 1\u001b[0m test_string\u001b[38;5;241m.\u001b[39msplit(\u001b[38;5;124m'\u001b[39m\u001b[38;5;124m'\u001b[39m)\n",
      "\u001b[1;31mValueError\u001b[0m: empty separator"
     ]
    }
   ],
   "source": [
    "test_string.split('')"
   ]
  },
  {
   "cell_type": "code",
   "execution_count": 13,
   "id": "b3404a9a-a867-4150-80b0-ecd2a6f0c3f2",
   "metadata": {},
   "outputs": [
    {
     "data": {
      "text/plain": [
       "['Strings are immutable']"
      ]
     },
     "execution_count": 13,
     "metadata": {},
     "output_type": "execute_result"
    }
   ],
   "source": [
    "test_string.split(',')"
   ]
  },
  {
   "cell_type": "code",
   "execution_count": 14,
   "id": "b55e73aa-7ccc-4b26-b97c-23822ca65ee7",
   "metadata": {},
   "outputs": [
    {
     "data": {
      "text/plain": [
       "['S', 't', 'r', 'i', 'n', 'g', 's']"
      ]
     },
     "execution_count": 14,
     "metadata": {},
     "output_type": "execute_result"
    }
   ],
   "source": [
    "[x for x in s2]"
   ]
  },
  {
   "cell_type": "markdown",
   "id": "20bc2115-ba8e-4579-bb61-9f50badeaf3e",
   "metadata": {},
   "source": [
    "######## Remember all operatons are O(N) in string except for reading a single index string[i]"
   ]
  },
  {
   "cell_type": "markdown",
   "id": "63fd8d25-9ef0-43cc-93b0-ff7bf2271364",
   "metadata": {},
   "source": [
    "## Lets Talk About Lists"
   ]
  },
  {
   "cell_type": "code",
   "execution_count": 15,
   "id": "09b032ae-576c-4426-bc71-6d3ae1999224",
   "metadata": {},
   "outputs": [],
   "source": [
    "#List can have mixed data type\n",
    "list1= [\"apple\", \"banana\", \"cherry\",1]"
   ]
  },
  {
   "cell_type": "code",
   "execution_count": 49,
   "id": "a0e080c5-b933-489d-af5a-bf3d5d10c066",
   "metadata": {},
   "outputs": [
    {
     "name": "stdout",
     "output_type": "stream",
     "text": [
      "['apple', 'cherry', 'kiwi', 'mango', 'Hello']\n"
     ]
    }
   ],
   "source": [
    "# : Lists maintain the order of elements as they were inserted. \n",
    "#If you add elements in a certain sequence, they will remain when you iterate over the list.\n",
    "list1.append(\"Hello\")\n",
    "print(list1)\n",
    "\n",
    "## O(1) : because you are adding in the end and not shuffling or searching through the list. "
   ]
  },
  {
   "cell_type": "code",
   "execution_count": 17,
   "id": "1082e9da-53f7-4cc1-af2a-21151baf1141",
   "metadata": {},
   "outputs": [
    {
     "data": {
      "text/plain": [
       "'apple'"
      ]
     },
     "execution_count": 17,
     "metadata": {},
     "output_type": "execute_result"
    }
   ],
   "source": [
    "list1[0]"
   ]
  },
  {
   "cell_type": "code",
   "execution_count": 18,
   "id": "a6670930-ec93-40d4-93e7-de12674bc7b8",
   "metadata": {},
   "outputs": [
    {
     "data": {
      "text/plain": [
       "['apple']"
      ]
     },
     "execution_count": 18,
     "metadata": {},
     "output_type": "execute_result"
    }
   ],
   "source": [
    "# Lists Include the 1st Index But not the last one passed\n",
    "list1[0:1]"
   ]
  },
  {
   "cell_type": "code",
   "execution_count": 19,
   "id": "f4f06d54-d574-4cee-8124-7a4a2d640d69",
   "metadata": {},
   "outputs": [
    {
     "name": "stdout",
     "output_type": "stream",
     "text": [
      "['Bye', 'banana', 'cherry', 1, 'Hello']\n"
     ]
    },
    {
     "ename": "TypeError",
     "evalue": "'str' object does not support item assignment",
     "output_type": "error",
     "traceback": [
      "\u001b[1;31m---------------------------------------------------------------------------\u001b[0m",
      "\u001b[1;31mTypeError\u001b[0m                                 Traceback (most recent call last)",
      "Cell \u001b[1;32mIn[19], line 9\u001b[0m\n\u001b[0;32m      6\u001b[0m \u001b[38;5;28mprint\u001b[39m(list1) \u001b[38;5;66;03m## Changed with list1 element\u001b[39;00m\n\u001b[0;32m      8\u001b[0m x\u001b[38;5;241m=\u001b[39m\u001b[38;5;124m\"\u001b[39m\u001b[38;5;124mHello\u001b[39m\u001b[38;5;124m\"\u001b[39m\n\u001b[1;32m----> 9\u001b[0m x[\u001b[38;5;241m0\u001b[39m]\u001b[38;5;241m=\u001b[39m\u001b[38;5;124m\"\u001b[39m\u001b[38;5;124mK\u001b[39m\u001b[38;5;124m\"\u001b[39m\n",
      "\u001b[1;31mTypeError\u001b[0m: 'str' object does not support item assignment"
     ]
    }
   ],
   "source": [
    "# Since List is mutable you can do the following\n",
    "# But the same operation cant be performed on a string since its immutable\n",
    "\n",
    "list1[0]=\"Bye\"\n",
    "print(list1) ## Changed with list1 element\n",
    "\n",
    "x=\"Hello\"\n",
    "x[0]=\"K\""
   ]
  },
  {
   "cell_type": "code",
   "execution_count": 50,
   "id": "7a698d66-b3d1-44c8-ab58-27e300e6d1bc",
   "metadata": {},
   "outputs": [
    {
     "name": "stdout",
     "output_type": "stream",
     "text": [
      "['apple', 'KILO', 'cherry', 'kiwi', 'mango', 'Hello']\n"
     ]
    }
   ],
   "source": [
    "list1.insert(1,\"KILO\")\n",
    "print(list1)\n",
    "\n",
    "## inserting an element into a list at an arbitrary position (not the end) takes O(N) time. Here's why:\n",
    "\n",
    "# Python lists are dynamic arrays, not linked lists.\n",
    "# This means elements are stored contiguously in memory.\n",
    "# The existing elements must be shifted When inserting an element in the middle or at the beginning."
   ]
  },
  {
   "cell_type": "code",
   "execution_count": 51,
   "id": "a8b590f3-bfec-476a-813b-41bed0004404",
   "metadata": {},
   "outputs": [
    {
     "name": "stdout",
     "output_type": "stream",
     "text": [
      "HKiello\n"
     ]
    }
   ],
   "source": [
    "## The same is not supported in Lists But you can do \n",
    "\n",
    "str1=\"Hello\"\n",
    "\n",
    "str1=str1[:1]+\"Ki\"+str1[1:]\n",
    "print(str1)\n",
    "\n",
    "## now guess the time complexity of this.???"
   ]
  },
  {
   "cell_type": "code",
   "execution_count": 22,
   "id": "c175ca75-6d7e-4614-a611-9841ead4c1bb",
   "metadata": {},
   "outputs": [
    {
     "ename": "TypeError",
     "evalue": "sequence item 4: expected str instance, int found",
     "output_type": "error",
     "traceback": [
      "\u001b[1;31m---------------------------------------------------------------------------\u001b[0m",
      "\u001b[1;31mTypeError\u001b[0m                                 Traceback (most recent call last)",
      "Cell \u001b[1;32mIn[22], line 1\u001b[0m\n\u001b[1;32m----> 1\u001b[0m \u001b[38;5;124m\"\u001b[39m\u001b[38;5;124m\"\u001b[39m\u001b[38;5;241m.\u001b[39mjoin(list1)\n",
      "\u001b[1;31mTypeError\u001b[0m: sequence item 4: expected str instance, int found"
     ]
    }
   ],
   "source": [
    "\"\".join(list1)"
   ]
  },
  {
   "cell_type": "code",
   "execution_count": 23,
   "id": "e995c9ae-be02-4651-ab43-68161dc9496d",
   "metadata": {},
   "outputs": [
    {
     "data": {
      "text/plain": [
       "'ByeKILObananacherry1Hello'"
      ]
     },
     "execution_count": 23,
     "metadata": {},
     "output_type": "execute_result"
    }
   ],
   "source": [
    "\"\".join([str(x) for x in list1]) ## consider this joining to string, hence every element needs to be a string"
   ]
  },
  {
   "cell_type": "code",
   "execution_count": 24,
   "id": "c457cb6f-159f-426c-a528-7ee9697dae4b",
   "metadata": {},
   "outputs": [
    {
     "name": "stdout",
     "output_type": "stream",
     "text": [
      "['Bye', 'KILO', 'banana', 'cherry', 1]\n"
     ]
    }
   ],
   "source": [
    "list1.pop()\n",
    "print(list1) ## Again popping from last is fine its O(1)"
   ]
  },
  {
   "cell_type": "code",
   "execution_count": 25,
   "id": "363dbf35-146b-46be-923f-656434a92769",
   "metadata": {},
   "outputs": [
    {
     "name": "stdout",
     "output_type": "stream",
     "text": [
      "['Bye', 'banana', 'cherry', 1]\n"
     ]
    }
   ],
   "source": [
    "list1.pop(1) ## But popping from middle is O(N) since lists memory needs fix\n",
    "print(list1)"
   ]
  },
  {
   "cell_type": "code",
   "execution_count": 26,
   "id": "a4eae98c-c479-4492-8842-8d5e67c2d13c",
   "metadata": {},
   "outputs": [
    {
     "name": "stdout",
     "output_type": "stream",
     "text": [
      "['Bye', 'cherry', 1]\n"
     ]
    }
   ],
   "source": [
    "list1.remove(\"banana\")## again for this it will search in list. \n",
    "print(list1)"
   ]
  },
  {
   "cell_type": "code",
   "execution_count": 27,
   "id": "a09dca58-660a-463a-b9fd-359d9af30c31",
   "metadata": {},
   "outputs": [
    {
     "name": "stdout",
     "output_type": "stream",
     "text": [
      "['cherry', 1]\n"
     ]
    },
    {
     "ename": "NameError",
     "evalue": "name 'list1' is not defined",
     "output_type": "error",
     "traceback": [
      "\u001b[1;31m---------------------------------------------------------------------------\u001b[0m",
      "\u001b[1;31mNameError\u001b[0m                                 Traceback (most recent call last)",
      "Cell \u001b[1;32mIn[27], line 5\u001b[0m\n\u001b[0;32m      2\u001b[0m \u001b[38;5;28mprint\u001b[39m(list1)\n\u001b[0;32m      4\u001b[0m \u001b[38;5;28;01mdel\u001b[39;00m list1\n\u001b[1;32m----> 5\u001b[0m \u001b[38;5;28mprint\u001b[39m(list1)\n",
      "\u001b[1;31mNameError\u001b[0m: name 'list1' is not defined"
     ]
    }
   ],
   "source": [
    "del list1[0]\n",
    "print(list1)\n",
    "\n",
    "del list1\n",
    "print(list1)\n"
   ]
  },
  {
   "cell_type": "code",
   "execution_count": 28,
   "id": "2e5d98d2-1d81-493e-9171-4e8438d16f69",
   "metadata": {},
   "outputs": [
    {
     "data": {
      "text/plain": [
       "['apple', 'orange', 'cherry', 'kiwi', 'mango']"
      ]
     },
     "execution_count": 28,
     "metadata": {},
     "output_type": "execute_result"
    }
   ],
   "source": [
    "fruits = [\"apple\", \"banana\", \"cherry\", \"kiwi\", \"mango\"]\n",
    "[x if x != \"banana\" else \"orange\" for x in fruits]"
   ]
  },
  {
   "cell_type": "code",
   "execution_count": 29,
   "id": "d6396597-45c6-494a-884a-6a95e5dbe4dd",
   "metadata": {},
   "outputs": [
    {
     "name": "stdout",
     "output_type": "stream",
     "text": [
      "['apple', 'cherry', 'kiwi', 'mango']\n",
      "['apple', 'cherry', 'kiwi', 'mango']\n"
     ]
    }
   ],
   "source": [
    "list1=[\"apple\", \"banana\", \"cherry\", \"kiwi\", \"mango\"]\n",
    "list2=list1\n",
    "\n",
    "list1.remove(\"banana\")\n",
    "\n",
    "print(list1)\n",
    "print(list2)"
   ]
  },
  {
   "cell_type": "code",
   "execution_count": 30,
   "id": "d170edc0-0645-400a-b5aa-1b321c27765d",
   "metadata": {},
   "outputs": [
    {
     "name": "stdout",
     "output_type": "stream",
     "text": [
      "['apple', 'cherry', 'kiwi', 'mango']\n",
      "['apple', 'banana', 'cherry', 'kiwi', 'mango']\n"
     ]
    }
   ],
   "source": [
    "list1=[\"apple\", \"banana\", \"cherry\", \"kiwi\", \"mango\"]\n",
    "list2=list1.copy()\n",
    "\n",
    "list1.remove(\"banana\")\n",
    "\n",
    "print(list1)\n",
    "print(list2)"
   ]
  },
  {
   "cell_type": "markdown",
   "id": "c4add58e-6354-45e9-a691-6bd4c58ee7a4",
   "metadata": {},
   "source": [
    "## Lets Take Sets Now"
   ]
  },
  {
   "cell_type": "code",
   "execution_count": 31,
   "id": "185112c0-6662-42ce-81f1-574300c0cb98",
   "metadata": {},
   "outputs": [],
   "source": [
    "myset = {\"apple\", \"banana\", \"cherry\",\"cherry\"}"
   ]
  },
  {
   "cell_type": "code",
   "execution_count": 32,
   "id": "975520a3-bfdc-4d3c-8141-0b1db68860ef",
   "metadata": {},
   "outputs": [
    {
     "name": "stdout",
     "output_type": "stream",
     "text": [
      "{'cherry', 'apple', 'banana'}\n"
     ]
    }
   ],
   "source": [
    "print(myset)"
   ]
  },
  {
   "cell_type": "code",
   "execution_count": 33,
   "id": "fff17452-ea08-4fe7-be6a-fa8335c0337e",
   "metadata": {},
   "outputs": [
    {
     "name": "stdout",
     "output_type": "stream",
     "text": [
      "{'orange', 'cherry', 'apple', 'banana'}\n"
     ]
    }
   ],
   "source": [
    "## Set items are unchangeable, but you can remove items and add new items.\n",
    "\n",
    "## Change Items : Once a set is created, you cannot change its items, but you can add new items.\n",
    "\n",
    "myset.add(\"orange\")\n",
    "print(myset)\n",
    "\n",
    "### Sets are unique in property since they are implemented using a hash table and hence operations they support such as add, search , insert, delete are o(1)"
   ]
  },
  {
   "cell_type": "code",
   "execution_count": 34,
   "id": "ba670f24-76dd-4e14-a125-23dda82c8534",
   "metadata": {},
   "outputs": [
    {
     "name": "stdout",
     "output_type": "stream",
     "text": [
      "{'orange', 'cherry', 'apple'}\n"
     ]
    }
   ],
   "source": [
    "myset.remove(\"banana\")\n",
    "print(myset)"
   ]
  },
  {
   "cell_type": "code",
   "execution_count": 35,
   "id": "6fd63ef8-5c99-4aab-b738-a3d387446a63",
   "metadata": {},
   "outputs": [
    {
     "name": "stdout",
     "output_type": "stream",
     "text": [
      "{'cherry', 'apple'}\n"
     ]
    },
    {
     "ename": "TypeError",
     "evalue": "set.pop() takes no arguments (1 given)",
     "output_type": "error",
     "traceback": [
      "\u001b[1;31m---------------------------------------------------------------------------\u001b[0m",
      "\u001b[1;31mTypeError\u001b[0m                                 Traceback (most recent call last)",
      "Cell \u001b[1;32mIn[35], line 4\u001b[0m\n\u001b[0;32m      1\u001b[0m myset\u001b[38;5;241m.\u001b[39mpop()\n\u001b[0;32m      2\u001b[0m \u001b[38;5;28mprint\u001b[39m(myset)\n\u001b[1;32m----> 4\u001b[0m myset\u001b[38;5;241m.\u001b[39mpop(\u001b[38;5;241m1\u001b[39m)\n\u001b[0;32m      5\u001b[0m \u001b[38;5;28mprint\u001b[39m(myset)\n",
      "\u001b[1;31mTypeError\u001b[0m: set.pop() takes no arguments (1 given)"
     ]
    }
   ],
   "source": [
    "myset.pop()\n",
    "print(myset)\n",
    "\n",
    "myset.pop(1)\n",
    "print(myset)"
   ]
  },
  {
   "cell_type": "markdown",
   "id": "53de6aa9-ce78-4287-aa6c-36f9b5175415",
   "metadata": {},
   "source": [
    "## Finally Dictionaries"
   ]
  },
  {
   "cell_type": "markdown",
   "id": "a268498c-2eaa-4684-ae5d-8593408285cb",
   "metadata": {},
   "source": [
    "#### Ordered (since Python 3.7+): Dictionaries maintain the insertion order of keys.\n",
    "- Use Hashing: They use a hash table under the hood, meaning key lookups (dict[key]) are very fast, typically O(1) on average.\n",
    "- Keys Must Be Hashable: Only immutable types (like strings, numbers, and tuples of immutables) can be used as dictionary keys because they must be hashable."
   ]
  },
  {
   "cell_type": "code",
   "execution_count": 36,
   "id": "c099e03f-c136-4941-8195-903b842c5981",
   "metadata": {},
   "outputs": [
    {
     "name": "stdout",
     "output_type": "stream",
     "text": [
      "{'brand': 'Ford', 'model': 'Mustang', 'year': 1964}\n"
     ]
    }
   ],
   "source": [
    "thisdict = {\n",
    "  \"brand\": \"Ford\",\n",
    "  \"model\": \"Mustang\",\n",
    "  \"year\": 1964\n",
    "}\n",
    "\n",
    "print(thisdict)"
   ]
  },
  {
   "cell_type": "code",
   "execution_count": 37,
   "id": "3ceb4758-9d6b-48f4-86ce-c2dea301a467",
   "metadata": {},
   "outputs": [
    {
     "name": "stdout",
     "output_type": "stream",
     "text": [
      "dict_keys(['brand', 'model', 'year'])\n",
      "dict_values(['Ford', 'Mustang', 1964])\n",
      "dict_items([('brand', 'Ford'), ('model', 'Mustang'), ('year', 1964)])\n"
     ]
    },
    {
     "ename": "TypeError",
     "evalue": "'dict_items' object is not subscriptable",
     "output_type": "error",
     "traceback": [
      "\u001b[1;31m---------------------------------------------------------------------------\u001b[0m",
      "\u001b[1;31mTypeError\u001b[0m                                 Traceback (most recent call last)",
      "Cell \u001b[1;32mIn[37], line 4\u001b[0m\n\u001b[0;32m      2\u001b[0m \u001b[38;5;28mprint\u001b[39m(thisdict\u001b[38;5;241m.\u001b[39mvalues())\n\u001b[0;32m      3\u001b[0m \u001b[38;5;28mprint\u001b[39m(thisdict\u001b[38;5;241m.\u001b[39mitems())\n\u001b[1;32m----> 4\u001b[0m \u001b[38;5;28mprint\u001b[39m(\u001b[38;5;28mtype\u001b[39m(thisdict\u001b[38;5;241m.\u001b[39mitems()[\u001b[38;5;241m0\u001b[39m]))\n",
      "\u001b[1;31mTypeError\u001b[0m: 'dict_items' object is not subscriptable"
     ]
    }
   ],
   "source": [
    "print(thisdict.keys())\n",
    "print(thisdict.values())\n",
    "print(thisdict.items())\n",
    "print(type(thisdict.items()[0]))"
   ]
  },
  {
   "cell_type": "code",
   "execution_count": 38,
   "id": "b1ca3f24-9dd0-465f-bf3d-e34d5e1b1099",
   "metadata": {},
   "outputs": [
    {
     "data": {
      "text/plain": [
       "('brand', 'Ford')"
      ]
     },
     "execution_count": 38,
     "metadata": {},
     "output_type": "execute_result"
    }
   ],
   "source": [
    "list(thisdict.items())[0]"
   ]
  },
  {
   "cell_type": "code",
   "execution_count": 52,
   "id": "87eec193-7362-4c53-a9c3-88bde7626a33",
   "metadata": {},
   "outputs": [],
   "source": [
    "thisdict['brand']=\"Maruti\"\n",
    "\n",
    "## Dictionaries also use hash values, hence faster lookup, update"
   ]
  },
  {
   "cell_type": "code",
   "execution_count": 40,
   "id": "fde6ee3d-a51b-47e3-92a3-5e4b67f2efb1",
   "metadata": {},
   "outputs": [
    {
     "name": "stdout",
     "output_type": "stream",
     "text": [
      "{'brand': 'Maruti', 'model': 'Mustang', 'year': 1964}\n"
     ]
    }
   ],
   "source": [
    "print(thisdict)"
   ]
  },
  {
   "cell_type": "code",
   "execution_count": 41,
   "id": "5b81a776-8a9d-4349-b308-5447b34b57ad",
   "metadata": {},
   "outputs": [
    {
     "name": "stdout",
     "output_type": "stream",
     "text": [
      "{'model': 'Mustang', 'year': 1964}\n"
     ]
    }
   ],
   "source": [
    "thisdict.pop(\"brand\")\n",
    "print(thisdict)"
   ]
  },
  {
   "attachments": {},
   "cell_type": "markdown",
   "id": "c39aedda-8aca-49a1-838b-82a8f0634167",
   "metadata": {},
   "source": [
    "<table>\n",
    "    <tr>\n",
    "        <td>Operation</td>\n",
    "        <td>List (list)</td>\n",
    "        <td>Tuple (tuple)</td>\n",
    "        <td>Set (set)</td>\n",
    "        <td>Dictionary (dict)</td>\n",
    "        <td>String (str)</td>\n",
    "    </tr>\n",
    "    <tr>\n",
    "        <td>Access by index (lst[i])</td>\n",
    "        <td>O(1)</td>\n",
    "        <td>O(1)</td>\n",
    "        <td>❌ No indexing</td>\n",
    "        <td>O(1)</td>\n",
    "        <td>O(1)</td>\n",
    "    </tr>\n",
    "    <tr>\n",
    "        <td>Search (x in lst)</td>\n",
    "        <td>O(N)</td>\n",
    "        <td>O(N)</td>\n",
    "        <td>O(1) (avg case)</td>\n",
    "        <td>O(1) (avg case)</td>\n",
    "        <td>O(N)</td>\n",
    "    </tr>\n",
    "    <tr>\n",
    "        <td>Append (lst.append(x))</td>\n",
    "        <td>O(1) (Amortized)</td>\n",
    "        <td>❌ Immutable</td>\n",
    "        <td>O(1) (Amortized)</td>\n",
    "        <td>O(1)</td>\n",
    "        <td>❌ Immutable</td>\n",
    "    </tr>\n",
    "    <tr>\n",
    "        <td>Insert (lst.insert(i, x))</td>\n",
    "        <td>O(N)</td>\n",
    "        <td>❌ Immutable</td>\n",
    "        <td>❌ No indexing</td>\n",
    "        <td>O(N)</td>\n",
    "        <td>❌ Immutable</td>\n",
    "    </tr>\n",
    "    <tr>\n",
    "        <td>Pop (last) (lst.pop())</td>\n",
    "        <td>O(1)</td>\n",
    "        <td>❌ Immutable</td>\n",
    "        <td>O(1) (pop arbitrary)</td>\n",
    "        <td>O(1) (pop arbitrary)</td>\n",
    "        <td>❌ Immutable</td>\n",
    "    </tr>\n",
    "    <tr>\n",
    "        <td>Pop at index (lst.pop(i))</td>\n",
    "        <td>O(N)</td>\n",
    "        <td>❌ Immutable</td>\n",
    "        <td>❌ No indexing</td>\n",
    "        <td>O(N) (for pop(i))</td>\n",
    "        <td>❌ Immutable</td>\n",
    "    </tr>\n",
    "    <tr>\n",
    "        <td>Remove (lst.remove(x))</td>\n",
    "        <td>O(N)</td>\n",
    "        <td>❌ Immutable</td>\n",
    "        <td>O(1) (avg case)</td>\n",
    "        <td>O(N) (for remove(x))</td>\n",
    "        <td>❌ Immutable</td>\n",
    "    </tr>\n",
    "    <tr>\n",
    "        <td>Delete (del lst[i])</td>\n",
    "        <td>O(N)</td>\n",
    "        <td>❌ Immutable</td>\n",
    "        <td>O(1) (by key)</td>\n",
    "        <td>O(1) (by key)</td>\n",
    "        <td>❌ Immutable</td>\n",
    "    </tr>\n",
    "    <tr>\n",
    "        <td>Length (len(lst))</td>\n",
    "        <td>O(1)</td>\n",
    "        <td>O(1)</td>\n",
    "        <td>O(1)</td>\n",
    "        <td>O(1)</td>\n",
    "        <td>O(1)</td>\n",
    "    </tr>\n",
    "    <tr>\n",
    "        <td>Iterate (for x in lst)</td>\n",
    "        <td>O(N)</td>\n",
    "        <td>O(N)</td>\n",
    "        <td>O(N)</td>\n",
    "        <td>O(N)</td>\n",
    "        <td>O(N)</td>\n",
    "    </tr>\n",
    "    <tr>\n",
    "        <td>Sort (sorted(lst))</td>\n",
    "        <td>O(N log N)</td>\n",
    "        <td>❌ Immutable</td>\n",
    "        <td>❌ Not supported</td>\n",
    "        <td>❌ Not supported</td>\n",
    "        <td>O(N log N)</td>\n",
    "    </tr>\n",
    "    <tr>\n",
    "        <td>Add (set.add(x))</td>\n",
    "        <td>❌ Use append/insert</td>\n",
    "        <td>❌ Immutable</td>\n",
    "        <td>O(1) (Amortized)</td>\n",
    "        <td>O(1) (Amortized)</td>\n",
    "        <td>❌ Immutable</td>\n",
    "    </tr>\n",
    "    <tr>\n",
    "        <td>Concatenation (s1 + s2)</td>\n",
    "        <td>O(N)</td>\n",
    "        <td>O(N)</td>\n",
    "        <td>❌ Not supported</td>\n",
    "        <td>❌ Not supported</td>\n",
    "        <td>O(N)</td>\n",
    "    </tr>\n",
    "    <tr>\n",
    "        <td>Repetition (s * k)</td>\n",
    "        <td>O(Nk)</td>\n",
    "        <td>O(Nk)</td>\n",
    "        <td>❌ Not supported</td>\n",
    "        <td>❌ Not supported</td>\n",
    "        <td>O(Nk)</td>\n",
    "    </tr>\n",
    "    <tr>\n",
    "        <td>Get item by key (dict.get(k))</td>\n",
    "        <td>❌ Use list methods</td>\n",
    "        <td>❌ Immutable</td>\n",
    "        <td>❌ No keys</td>\n",
    "        <td>O(1)</td>\n",
    "        <td>❌ No keys</td>\n",
    "    </tr>\n",
    "    <tr>\n",
    "        <td>Set item by key (dict[k] = v)</td>\n",
    "        <td>❌ Use list methods</td>\n",
    "        <td>❌ Immutable</td>\n",
    "        <td>❌ No keys</td>\n",
    "        <td>O(1)</td>\n",
    "        <td>❌ No keys</td>\n",
    "    </tr>\n",
    "    <tr>\n",
    "        <td>Delete by key (del dict[k])</td>\n",
    "        <td>❌ Use list methods</td>\n",
    "        <td>❌ Immutable</td>\n",
    "        <td>❌ No keys</td>\n",
    "        <td>O(1) (avg case)</td>\n",
    "        <td>❌ No keys</td>\n",
    "    </tr>\n",
    "    <tr>\n",
    "        <td>Pop by key (dict.pop(k))</td>\n",
    "        <td>❌ Use list methods</td>\n",
    "        <td>❌ Immutable</td>\n",
    "        <td>❌ No keys</td>\n",
    "        <td>O(1) (avg case)</td>\n",
    "        <td>❌ No keys</td>\n",
    "    </tr>\n",
    "    <tr>\n",
    "        <td>Union (`set1</td>\n",
    "        <td>set2`)</td>\n",
    "        <td>❌ Use extend()</td>\n",
    "        <td>❌ Immutable</td>\n",
    "        <td>O(len(set1) + len(set2))</td>\n",
    "        <td>❌ Not supported</td>\n",
    "    </tr>\n",
    "    <tr>\n",
    "        <td>Intersection (set1 &amp; set2)</td>\n",
    "        <td>❌ Use loops</td>\n",
    "        <td>❌ Immutable</td>\n",
    "        <td>O(min(len(set1), len(set2)))</td>\n",
    "        <td>❌ Not supported</td>\n",
    "        <td>❌ Not supported</td>\n",
    "    </tr>\n",
    "    <tr>\n",
    "        <td>Reverse (s[::-1])</td>\n",
    "        <td>O(N)</td>\n",
    "        <td>O(N)</td>\n",
    "        <td>❌ Not supported</td>\n",
    "        <td>❌ Not supported</td>\n",
    "        <td>O(N)</td>\n",
    "    </tr>\n",
    "    <tr>\n",
    "        <td>Replace (s.replace())</td>\n",
    "        <td>❌ Use loops</td>\n",
    "        <td>❌ Immutable</td>\n",
    "        <td>❌ Not supported</td>\n",
    "        <td>❌ Not supported</td>\n",
    "        <td>O(N)</td>\n",
    "    </tr>\n",
    "    <tr>\n",
    "        <td>Join (&quot;&quot;.join(lst))</td>\n",
    "        <td>O(N)</td>\n",
    "        <td>❌ Immutable</td>\n",
    "        <td>❌ Not supported</td>\n",
    "        <td>❌ Not supported</td>\n",
    "        <td>O(N)</td>\n",
    "    </tr>\n",
    "    <tr>\n",
    "        <td>Split (s.split())</td>\n",
    "        <td>❌ Use loops</td>\n",
    "        <td>❌ Immutable</td>\n",
    "        <td>❌ Not supported</td>\n",
    "        <td>❌ Not supported</td>\n",
    "        <td>O(N)</td>\n",
    "    </tr>\n",
    "</table>"
   ]
  },
  {
   "cell_type": "code",
   "execution_count": null,
   "id": "2438b59e-61b7-43ce-9fa0-5e1ba4e613b5",
   "metadata": {},
   "outputs": [],
   "source": []
  }
 ],
 "metadata": {
  "kernelspec": {
   "display_name": "Python 3 (ipykernel)",
   "language": "python",
   "name": "python3"
  },
  "language_info": {
   "codemirror_mode": {
    "name": "ipython",
    "version": 3
   },
   "file_extension": ".py",
   "mimetype": "text/x-python",
   "name": "python",
   "nbconvert_exporter": "python",
   "pygments_lexer": "ipython3",
   "version": "3.12.7"
  }
 },
 "nbformat": 4,
 "nbformat_minor": 5
}
